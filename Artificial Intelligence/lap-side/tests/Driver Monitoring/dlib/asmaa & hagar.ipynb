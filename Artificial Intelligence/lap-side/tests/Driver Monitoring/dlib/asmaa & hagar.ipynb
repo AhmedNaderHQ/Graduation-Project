{
 "cells": [
  {
   "cell_type": "code",
   "execution_count": 1,
   "metadata": {},
   "outputs": [],
   "source": [
    "import cv2                                              # For image processing\n",
    "import dlib                                             # For face detection\n",
    "from scipy.spatial import distance                      # For equclidean distance\n",
    "from playsound import playsound                         # For alarm\n",
    "import threading                                        # For multithreading\n",
    "import time                                             # For time\n"
   ]
  },
  {
   "cell_type": "code",
   "execution_count": 2,
   "metadata": {},
   "outputs": [],
   "source": [
    "def eye_aspect_ratio(eye):\n",
    "    A = distance.euclidean(eye[1], eye[5])\n",
    "    B = distance.euclidean(eye[2], eye[4])\n",
    "    C = distance.euclidean(eye[0], eye[3])\n",
    "    return (A + B) / (2.0 * C)"
   ]
  },
  {
   "cell_type": "code",
   "execution_count": 4,
   "metadata": {},
   "outputs": [],
   "source": [
    "detector    = dlib.get_frontal_face_detector()          # Face detector\n",
    "predictor   = dlib.shape_predictor(\"shape_predictor_68_face_landmarks.dat\")\n"
   ]
  },
  {
   "cell_type": "code",
   "execution_count": 5,
   "metadata": {},
   "outputs": [],
   "source": [
    "EAR_THRESHOLD = 0.25\n",
    "ALARM_DURATION_THRESHOLD = 3\n",
    "closed_eyes_start_time = None\n",
    "alarm_on = False\n",
    "alarm_thread = None"
   ]
  },
  {
   "cell_type": "code",
   "execution_count": 6,
   "metadata": {},
   "outputs": [],
   "source": [
    "def play_alarm():\n",
    "    playsound(\"alarm.wav\")"
   ]
  },
  {
   "cell_type": "code",
   "execution_count": null,
   "metadata": {},
   "outputs": [],
   "source": [
    "cap = cv2.VideoCapture(0)\n",
    "\n",
    "while True:\n",
    "    ret, frame = cap.read()\n",
    "    gray = cv2.cvtColor(frame, cv2.COLOR_BGR2GRAY)\n",
    "    faces = detector(gray)\n",
    "\n",
    "    for face in faces:\n",
    "        landmarks = predictor(gray, face)\n",
    "\n",
    "        left_eye = [(landmarks.part(i).x, landmarks.part(i).y) for i in range(36, 42)]\n",
    "        right_eye = [(landmarks.part(i).x, landmarks.part(i).y) for i in range(42, 48)]\n",
    "\n",
    "        left_ear = eye_aspect_ratio(left_eye)\n",
    "        right_ear = eye_aspect_ratio(right_eye)\n",
    "        ear = (left_ear + right_ear) / 2.0\n",
    "\n",
    "        if ear < EAR_THRESHOLD:\n",
    "            if closed_eyes_start_time is None:\n",
    "                closed_eyes_start_time = time.time()\n",
    "            elif time.time() - closed_eyes_start_time >= ALARM_DURATION_THRESHOLD and not alarm_on:\n",
    "                cv2.putText(frame, \"السائق نائم!\", (10, 30), cv2.FONT_HERSHEY_SIMPLEX, 0.7, (0, 0, 255), 2)\n",
    "                alarm_on = True\n",
    "                alarm_thread = threading.Thread(target = play_alarm)\n",
    "                alarm_thread.start()\n",
    "        else:\n",
    "            closed_eyes_start_time = None\n",
    "            if alarm_on:\n",
    "                alarm_on = False\n",
    "\n",
    "    cv2.imshow(\"Driver Status\", frame)\n",
    "    if cv2.waitKey(1) & 0xFF == ord('q'):\n",
    "        break\n",
    "\n",
    "cap.release()\n",
    "cv2.destroyAllWindows()"
   ]
  },
  {
   "cell_type": "code",
   "execution_count": null,
   "metadata": {},
   "outputs": [],
   "source": []
  }
 ],
 "metadata": {
  "kernelspec": {
   "display_name": "base",
   "language": "python",
   "name": "python3"
  },
  "language_info": {
   "codemirror_mode": {
    "name": "ipython",
    "version": 3
   },
   "file_extension": ".py",
   "mimetype": "text/x-python",
   "name": "python",
   "nbconvert_exporter": "python",
   "pygments_lexer": "ipython3",
   "version": "3.12.4"
  }
 },
 "nbformat": 4,
 "nbformat_minor": 2
}
