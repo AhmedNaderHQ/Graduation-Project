{
 "cells": [
  {
   "cell_type": "code",
   "execution_count": 1,
   "metadata": {},
   "outputs": [
    {
     "name": "stdout",
     "output_type": "stream",
     "text": [
      "WARNING:tensorflow:From c:\\Users\\mazen\\anaconda3\\Lib\\site-packages\\tf_keras\\src\\losses.py:2976: The name tf.losses.sparse_softmax_cross_entropy is deprecated. Please use tf.compat.v1.losses.sparse_softmax_cross_entropy instead.\n",
      "\n"
     ]
    }
   ],
   "source": [
    "import cv2\n",
    "\n",
    "from deepface import DeepFace"
   ]
  },
  {
   "cell_type": "code",
   "execution_count": 2,
   "metadata": {},
   "outputs": [],
   "source": [
    "known_img = cv2.imread(\"images 1/Mazen Alasas.jpg\")\n"
   ]
  },
  {
   "cell_type": "code",
   "execution_count": 4,
   "metadata": {},
   "outputs": [
    {
     "name": "stdout",
     "output_type": "stream",
     "text": [
      "frame number: 1 - verified: False\n",
      "frame number: 2 - verified: True\n",
      "frame number: 3 - verified: True\n",
      "frame number: 4 - verified: True\n",
      "frame number: 5 - verified: True\n",
      "frame number: 6 - verified: True\n",
      "frame number: 7 - verified: True\n",
      "frame number: 8 - verified: True\n",
      "frame number: 9 - verified: True\n",
      "frame number: 10 - verified: True\n",
      "frame number: 11 - verified: True\n",
      "frame number: 12 - verified: True\n",
      "frame number: 13 - verified: True\n",
      "frame number: 14 - verified: True\n",
      "frame number: 15 - verified: True\n",
      "frame number: 16 - verified: True\n",
      "frame number: 17 - verified: True\n",
      "True\n"
     ]
    }
   ],
   "source": [
    "cap = cv2.VideoCapture(0)\n",
    "\n",
    "\n",
    "same_person = False\n",
    "\n",
    "frame_num = 0\n",
    "\n",
    "\n",
    "while True:\n",
    "\n",
    "    ret, frame = cap.read()\n",
    "\n",
    "    cv2.imshow(\"Frame\", frame)\n",
    "\n",
    "    try:\n",
    "        same_person = DeepFace.verify(img1_path = known_img, img2_path = frame)[\"verified\"]\n",
    "    except:\n",
    "        pass\n",
    "\n",
    "    print(f'frame number: {frame_num + 1} - verified: {same_person}')\n",
    "\n",
    "    if same_person == True:\n",
    "        pass\n",
    "        # break\n",
    "\n",
    "    if cv2.waitKey(1) & 0xFF == ord('q'):\n",
    "        break\n",
    "\n",
    "    frame_num += 1\n",
    "\n",
    "cap.release()\n",
    "cv2.destroyAllWindows()\n",
    "\n",
    "\n",
    "print(same_person)"
   ]
  },
  {
   "cell_type": "code",
   "execution_count": null,
   "metadata": {},
   "outputs": [],
   "source": []
  }
 ],
 "metadata": {
  "kernelspec": {
   "display_name": "base",
   "language": "python",
   "name": "python3"
  },
  "language_info": {
   "codemirror_mode": {
    "name": "ipython",
    "version": 3
   },
   "file_extension": ".py",
   "mimetype": "text/x-python",
   "name": "python",
   "nbconvert_exporter": "python",
   "pygments_lexer": "ipython3",
   "version": "3.12.4"
  }
 },
 "nbformat": 4,
 "nbformat_minor": 2
}
