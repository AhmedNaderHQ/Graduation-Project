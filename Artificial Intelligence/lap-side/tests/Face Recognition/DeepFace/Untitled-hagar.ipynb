{
 "cells": [
  {
   "cell_type": "code",
   "execution_count": 1,
   "metadata": {},
   "outputs": [
    {
     "name": "stdout",
     "output_type": "stream",
     "text": [
      "WARNING:tensorflow:From c:\\Users\\mazen\\anaconda3\\Lib\\site-packages\\tf_keras\\src\\losses.py:2976: The name tf.losses.sparse_softmax_cross_entropy is deprecated. Please use tf.compat.v1.losses.sparse_softmax_cross_entropy instead.\n",
      "\n"
     ]
    }
   ],
   "source": [
    "from deepface import DeepFace\n",
    "import cv2"
   ]
  },
  {
   "cell_type": "markdown",
   "metadata": {},
   "source": [
    "Face Matching"
   ]
  },
  {
   "cell_type": "code",
   "execution_count": 2,
   "metadata": {},
   "outputs": [
    {
     "name": "stdout",
     "output_type": "stream",
     "text": [
      "Frame number: 1 - Verified: False\n",
      "Frame number: 2 - Verified: False\n",
      "Frame number: 3 - Verified: False\n",
      "Frame number: 4 - Verified: True\n",
      "Same person verified: True\n"
     ]
    }
   ],
   "source": [
    "# Load the known image\n",
    "known_img = cv2.imread(\"images 1/Mazen Alasas.jpg\")\n",
    "\n",
    "# Check if the image loaded successfully\n",
    "if known_img is None:\n",
    "    print(f\"Error: Unable to load image from {known_img}\")\n",
    "    exit()\n",
    "\n",
    "# Use the webcam\n",
    "cap = cv2.VideoCapture(0)\n",
    "\n",
    "frame_num = 0\n",
    "same_person = False\n",
    "\n",
    "# Check the identity of the person in 30 frames\n",
    "while frame_num < 30:\n",
    "    ret, frame = cap.read()\n",
    "\n",
    "    if not ret:\n",
    "        print(\"Error: Unable to read frame from camera.\")\n",
    "        break\n",
    "\n",
    "    cv2.imshow(\"Frame\", frame)\n",
    "\n",
    "    try:\n",
    "        # Use img_path correctly\n",
    "        same_person = DeepFace.verify(img1_path=known_img, img2_path=frame)[\"verified\"]\n",
    "    except:\n",
    "        pass\n",
    "\n",
    "    print(f'Frame number: {frame_num + 1} - Verified: {same_person}')\n",
    "\n",
    "    if same_person:\n",
    "        break\n",
    "\n",
    "    if cv2.waitKey(1) & 0xFF == ord('q'):\n",
    "        break\n",
    "\n",
    "    frame_num += 1\n",
    "\n",
    "cap.release()\n",
    "cv2.destroyAllWindows()\n",
    "\n",
    "print(\"Same person verified:\", same_person)\n",
    "\n",
    "# Analyze the known image\n",
    "# try:\n",
    "#     analysis = DeepFace.analyze(img_path=known_img)\n",
    "#     print(analysis)\n",
    "# except:\n",
    "#     pass\n"
   ]
  }
 ],
 "metadata": {
  "kernelspec": {
   "display_name": "base",
   "language": "python",
   "name": "python3"
  },
  "language_info": {
   "codemirror_mode": {
    "name": "ipython",
    "version": 3
   },
   "file_extension": ".py",
   "mimetype": "text/x-python",
   "name": "python",
   "nbconvert_exporter": "python",
   "pygments_lexer": "ipython3",
   "version": "3.12.4"
  }
 },
 "nbformat": 4,
 "nbformat_minor": 2
}
