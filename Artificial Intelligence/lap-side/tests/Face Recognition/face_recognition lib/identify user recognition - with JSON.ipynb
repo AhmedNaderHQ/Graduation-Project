{
 "cells": [
  {
   "cell_type": "markdown",
   "metadata": {},
   "source": [
    "# Setup\n",
    "import all the libraries and functions we will need .."
   ]
  },
  {
   "cell_type": "code",
   "execution_count": 1,
   "metadata": {},
   "outputs": [],
   "source": [
    "import cv2                              # for image processing\n",
    "import face_recognition                 # for face detection, encoding and recognition\n",
    "\n",
    "import os                               # for file handling (image directory)\n",
    "import glob                             # to take all images from directory\n",
    "import json                             # to store data in JSON format\n",
    "\n",
    "from numpy import array, argmin         # to get min distance between known face and unknown face\n"
   ]
  },
  {
   "cell_type": "markdown",
   "metadata": {},
   "source": [
    "# Store known Data\n",
    "some lists to store information about the people we want to know from the video, wheteher they are them or not .."
   ]
  },
  {
   "cell_type": "code",
   "execution_count": 2,
   "metadata": {},
   "outputs": [],
   "source": [
    "known_face_encodings    = []            # to store known face encodings\n",
    "known_face_names        = []            # to store known face names          ***\n",
    "frame_resize            = 0.25          # to resize frame"
   ]
  },
  {
   "cell_type": "markdown",
   "metadata": {},
   "source": [
    "# Load Dataset\n",
    "all images of known people"
   ]
  },
  {
   "cell_type": "code",
   "execution_count": 3,
   "metadata": {},
   "outputs": [],
   "source": [
    "images_path = glob.glob(os.path.join(\"images 2/*.*\"))  # get all images from directory"
   ]
  },
  {
   "cell_type": "markdown",
   "metadata": {},
   "source": [
    "# Get information\n",
    "get name and feature vector for each image to compare them and and find out its name"
   ]
  },
  {
   "cell_type": "code",
   "execution_count": 4,
   "metadata": {},
   "outputs": [],
   "source": [
    "for img_path in images_path:                                # for each image\n",
    "\n",
    "    img      = cv2.imread(img_path)                         # read image\n",
    "    \n",
    "    small_img = cv2.resize(img, (0, 0), fx = frame_resize, fy = frame_resize)\n",
    "\n",
    "    rgb_img  = cv2.cvtColor(small_img, cv2.COLOR_BGR2RGB)\n",
    "\n",
    "    basename = os.path.basename(img_path)                   # get full image name       ***\n",
    "\n",
    "    filename, ext = os.path.splitext(basename)              # split to name and extension   ***\n",
    "    \n",
    "    img_encoding  = face_recognition.face_encodings(rgb_img)[0] # get encoding\n",
    "\n",
    "    known_face_encodings.append(img_encoding)               # append encoding\n",
    "    \n",
    "    known_face_names.append(filename)                       # append name     ***"
   ]
  },
  {
   "cell_type": "markdown",
   "metadata": {},
   "source": [
    "# If the same person \n",
    "write **True** value on Verified "
   ]
  },
  {
   "cell_type": "code",
   "execution_count": 5,
   "metadata": {},
   "outputs": [],
   "source": [
    "def read_shared_variable():\n",
    "    with open('F:\\\\VS\\\\ML\\\\Sub Projects For GP\\\\Face Recognition\\\\face_recognition lib\\\\data.json', 'r') as f:\n",
    "        data = json.load(f)\n",
    "        verified = data['Verified']\n",
    "    return verified\n",
    "\n",
    "def write_shared_variable():\n",
    "    with open('F:\\\\VS\\\\ML\\\\Sub Projects For GP\\\\Face Recognition\\\\face_recognition lib\\\\data.json', 'r') as f:\n",
    "        data = json.load(f)\n",
    "\n",
    "    data['Verified'] = True\n",
    "\n",
    "    with open('F:\\\\VS\\\\ML\\\\Sub Projects For GP\\\\Face Recognition\\\\face_recognition lib\\\\data.json', 'w') as f:\n",
    "        json.dump(data, f)\n"
   ]
  },
  {
   "cell_type": "markdown",
   "metadata": {},
   "source": [
    "# Detect faces function\n",
    "get all faces and their names from in the frame and compare them using distance \n",
    "\n",
    "the minimum distance between him and the known people **will most likely be correct**\n"
   ]
  },
  {
   "cell_type": "code",
   "execution_count": 6,
   "metadata": {},
   "outputs": [],
   "source": [
    "def detect_faces(frame):\n",
    "    \n",
    "    small_frame = cv2.resize(frame, (0, 0), fx = frame_resize, fy = frame_resize)\n",
    "\n",
    "    rgb_small_frame = cv2.cvtColor(small_frame, cv2.COLOR_BGR2RGB)\n",
    "\n",
    "    face_locations = face_recognition.face_locations(rgb_small_frame)                   # get face locations\n",
    "\n",
    "    face_encodings = face_recognition.face_encodings(rgb_small_frame, face_locations)   # get face encodings\n",
    "\n",
    "    face_names = []                                                                     # to store face names for each face in the frame\n",
    "    \n",
    "    for face_encoding in face_encodings:\n",
    "\n",
    "        matches = face_recognition.compare_faces(known_face_encodings, face_encoding)   # compare face encodings with known face encodings, return True if they match\n",
    "\n",
    "        name = \"Unknown\"                                                                # if unknown face, name = Unknown\n",
    "\n",
    "        face_distances = face_recognition.face_distance(known_face_encodings, face_encoding)    # get min distance between known face and unknown face\n",
    "\n",
    "        best_match_index = argmin(face_distances)                                       # get index of min distance\n",
    "\n",
    "        if matches[best_match_index]:                                                   # if unknown face matches with known face\n",
    "            write_shared_variable()                                                     # write True\n",
    "            name = known_face_names[best_match_index]                                   # assign name by known face name\n",
    "            \n",
    "        face_names.append(name)\n",
    "\n",
    "    face_locations = array(face_locations)                                              # convert to array to do operations quickly (using list will not work)\n",
    "\n",
    "    face_locations = face_locations / frame_resize                                      # resize face locations\n",
    "\n",
    "    return face_locations.astype(int), face_names                                       # return all face locations and there names in the frame\n",
    "\n"
   ]
  },
  {
   "cell_type": "markdown",
   "metadata": {},
   "source": [
    "# Test "
   ]
  },
  {
   "cell_type": "code",
   "execution_count": 7,
   "metadata": {},
   "outputs": [],
   "source": [
    "cap = cv2.VideoCapture(0)                                                               # camera setup   \n",
    "\n",
    "while True:                                                             \n",
    "    ret, frame = cap.read()                                                             # read frame by frame\n",
    "\n",
    "    face_locations, face_names = detect_faces(frame)                                    # using detect faces function to get face locations and names in the frame\n",
    "\n",
    "    for face_loc, name in zip(face_locations, face_names):                              # for each face in the frame\n",
    "\n",
    "        y1, x2, y2, x1 = face_loc[0], face_loc[1], face_loc[2], face_loc[3]             # get face location to draw rectangle around face (top, right, bottom, left)\n",
    "\n",
    "        cv2.putText(frame, name,(x1, y1 - 10), cv2.FONT_HERSHEY_PLAIN, 1, (0, 0, 200), 2)  # put name above face\n",
    "        \n",
    "        cv2.rectangle(frame, (x1, y1), (x2, y2), (0, 0, 200), 2)                        # draw rectangle\n",
    "\n",
    "    cv2.imshow(\"Frame\", frame)                                                          # show frame after processing\n",
    "\n",
    "    verified = read_shared_variable()\n",
    "    if verified:\n",
    "        break\n",
    "\n",
    "    if cv2.waitKey(1) & 0xFF == ord('q'):                                               # press q to quit\n",
    "        break\n",
    "\n",
    "cap.release()                                                                           # release camera\n",
    "cv2.destroyAllWindows()                                                                 # close all windows (imshow windows)\n"
   ]
  },
  {
   "cell_type": "code",
   "execution_count": null,
   "metadata": {},
   "outputs": [],
   "source": []
  }
 ],
 "metadata": {
  "kernelspec": {
   "display_name": "base",
   "language": "python",
   "name": "python3"
  },
  "language_info": {
   "codemirror_mode": {
    "name": "ipython",
    "version": 3
   },
   "file_extension": ".py",
   "mimetype": "text/x-python",
   "name": "python",
   "nbconvert_exporter": "python",
   "pygments_lexer": "ipython3",
   "version": "3.12.4"
  }
 },
 "nbformat": 4,
 "nbformat_minor": 2
}
