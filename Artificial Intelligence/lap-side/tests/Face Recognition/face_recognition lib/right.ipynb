{
 "cells": [
  {
   "cell_type": "markdown",
   "metadata": {},
   "source": [
    "# Setup\n",
    "import all the libraries and functions we will need .."
   ]
  },
  {
   "cell_type": "code",
   "execution_count": 1,
   "metadata": {},
   "outputs": [],
   "source": [
    "import json                             # to store data in JSON format\n",
    "\n",
    "from numpy import array, argmin         # to get min distance between known face and unknown face\n",
    "\n",
    "import os, glob                         # to take all images from directory\n",
    "\n",
    "import cv2                              # for image processing\n",
    "import face_recognition                 # for face detection, encoding and recognition\n",
    "\n",
    "from playsound import playsound         # to play alarm sound when face is not recognized\n"
   ]
  },
  {
   "cell_type": "markdown",
   "metadata": {},
   "source": [
    "# Store known Data\n",
    "some lists to store information about the people we want to know from the video, wheteher they are them or not .."
   ]
  },
  {
   "cell_type": "code",
   "execution_count": 2,
   "metadata": {},
   "outputs": [],
   "source": [
    "known_face_encodings    = []            # to store known face encodings\n",
    "frame_resize            = 0.25          # to resize frame"
   ]
  },
  {
   "cell_type": "markdown",
   "metadata": {},
   "source": [
    "### load multi users"
   ]
  },
  {
   "cell_type": "code",
   "execution_count": 3,
   "metadata": {},
   "outputs": [],
   "source": [
    "all_images = glob.glob(os.path.join(\"images 1/*.*\"))                # get all images from directory\n",
    "\n",
    "for image in all_images:                                            # for each image\n",
    "    image = cv2.imread(image)                                       # read image\n",
    "\n",
    "    small_img = cv2.resize(image, (0, 0), fx = frame_resize, fy = frame_resize)   # resize image  (0.25 original size)\n",
    "    image_encoding = face_recognition.face_encodings(small_img)[0]  # get encoding\n",
    "\n",
    "\n",
    "    known_face_encodings.append(image_encoding)"
   ]
  },
  {
   "cell_type": "markdown",
   "metadata": {},
   "source": [
    "# Detect faces function\n",
    "get all faces and their names from in the frame and compare them using distance \n",
    "\n",
    "the minimum distance between him and the known people **will most likely be correct**\n"
   ]
  },
  {
   "cell_type": "code",
   "execution_count": null,
   "metadata": {},
   "outputs": [],
   "source": [
    "def detect_faces_from_frame(frame, is_detected) -> bool:\n",
    "    \n",
    "    small_frame = cv2.resize(frame, (0, 0), fx = frame_resize, fy = frame_resize)\n",
    "\n",
    "    face_locations = face_recognition.face_locations(small_frame)                       # get face locations\n",
    "\n",
    "    face_encodings = face_recognition.face_encodings(small_frame, face_locations)       # get face encodings\n",
    "\n",
    "    for face_encoding in face_encodings:                                                # for each face in the frame if there are multiple faces in the frame\n",
    "\n",
    "        matches = face_recognition.compare_faces(known_face_encodings, face_encoding)   # compare face encodings with known face encodings, return True if they match\n",
    "\n",
    "        face_distances = face_recognition.face_distance(known_face_encodings, face_encoding)    # get min distance between known face and unknown face\n",
    "\n",
    "        best_match_index = argmin(face_distances)                                       # get index of min distance\n",
    "\n",
    "        if matches[best_match_index]:                                                   # if unknown face matches with known face\n",
    "            is_detected = True                                   # write True\n",
    "\n",
    "    face_locations = array(face_locations)\n",
    "                                                  # convert to array to do operations quickly (using list will not work)\n",
    "    return is_detected"
   ]
  },
  {
   "cell_type": "markdown",
   "metadata": {},
   "source": [
    "# Test "
   ]
  },
  {
   "cell_type": "code",
   "execution_count": 14,
   "metadata": {},
   "outputs": [
    {
     "name": "stdout",
     "output_type": "stream",
     "text": [
      "frame number: 1 - verified: True\n"
     ]
    }
   ],
   "source": [
    "cap = cv2.VideoCapture(0)                        # camera setup   \n",
    "\n",
    "same_persone = False                             # initialize shared variable\n",
    "\n",
    "frame_num = 0                                    # to count frames\n",
    "\n",
    "while frame_num < 60:                            # 30 frames is enough to detect face\n",
    "\n",
    "    ret, frame = cap.read()                      # read frame by frame\n",
    "\n",
    "    same_persone = detect_faces_from_frame(frame, same_persone)               # using detect faces function to get face locations and names in the frame\n",
    "\n",
    "    cv2.imshow(\"Frame\", frame)                   # show frame after processing\n",
    "\n",
    "    # same_persone = read_shared_variable()        # read shared variable\n",
    "\n",
    "    print(f'frame number: {frame_num + 1} - verified: {same_persone}')\n",
    "    frame_num += 1\n",
    "\n",
    "    if same_persone == True:                     # if it's True (unknown face matches with known face) \n",
    "        break\n",
    "\n",
    "    if cv2.waitKey(1) & 0xFF == ord('q'):        # press q to quit\n",
    "        break\n",
    "\n",
    "cap.release()                                    # release camera\n",
    "cv2.destroyAllWindows()                          # close all windows (imshow windows)\n",
    "\n",
    "if same_persone == False:                        # if it's False (unknown face does not matches with known face)\n",
    "    print(\"playing alarm\")\n",
    "    playsound('alarm.wav')\n"
   ]
  }
 ],
 "metadata": {
  "kernelspec": {
   "display_name": "base",
   "language": "python",
   "name": "python3"
  },
  "language_info": {
   "codemirror_mode": {
    "name": "ipython",
    "version": 3
   },
   "file_extension": ".py",
   "mimetype": "text/x-python",
   "name": "python",
   "nbconvert_exporter": "python",
   "pygments_lexer": "ipython3",
   "version": "3.12.7"
  }
 },
 "nbformat": 4,
 "nbformat_minor": 2
}
