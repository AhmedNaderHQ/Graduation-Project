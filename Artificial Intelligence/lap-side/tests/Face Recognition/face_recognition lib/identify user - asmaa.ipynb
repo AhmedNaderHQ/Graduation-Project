{
 "cells": [
  {
   "cell_type": "code",
   "execution_count": 1,
   "metadata": {},
   "outputs": [
    {
     "name": "stdout",
     "output_type": "stream",
     "text": [
      "frame number: 1 - verified: True\n",
      "frame number: 2 - verified: True\n",
      "frame number: 3 - verified: True\n",
      "frame number: 4 - verified: True\n",
      "frame number: 5 - verified: True\n",
      "frame number: 6 - verified: True\n"
     ]
    }
   ],
   "source": [
    "import cv2\n",
    "import face_recognition\n",
    "\n",
    "video_capture = cv2.VideoCapture(0)\n",
    "\n",
    "\n",
    "known_image = face_recognition.load_image_file(\"images 1/Mazen Alasas.jpg\")\n",
    "known_encoding = face_recognition.face_encodings(known_image)[0]\n",
    "\n",
    "known_face_encodings = [known_encoding]\n",
    "known_face_names = [\"Mazen Alasas\"]\n",
    "\n",
    "same = False\n",
    "\n",
    "frame_n = 0\n",
    "\n",
    "while frame_n < 90:\n",
    "\n",
    "    ret, frame = video_capture.read()\n",
    "\n",
    "    face_locations = face_recognition.face_locations(frame)\n",
    "    face_encodings = face_recognition.face_encodings(frame, face_locations)\n",
    "\n",
    "    for (top, right, bottom, left), face_encoding in zip(face_locations, face_encodings):\n",
    "\n",
    "        matches = face_recognition.compare_faces(known_face_encodings, face_encoding)\n",
    "        name = \"Unknown\"\n",
    "\n",
    "        if True in matches:\n",
    "            first_match_index = matches.index(True)\n",
    "            name = known_face_names[first_match_index]\n",
    "            same = True\n",
    "\n",
    "            cv2.imwrite(f\"captured_{name}.jpg\", frame)\n",
    "\n",
    "            color = (0, 255, 0)\n",
    "            thickness = 2\n",
    "        else:\n",
    "\n",
    "            color = (0, 0, 255)\n",
    "            thickness = 2\n",
    "\n",
    "        cv2.rectangle(frame, (left - 5, top - 5), (right + 5, bottom + 5), color, thickness)\n",
    "        cv2.putText(frame, name, (left, top - 10), cv2.FONT_HERSHEY_SIMPLEX, 0.9, (255, 255, 255), 2)\n",
    "\n",
    "    cv2.imshow('Video', frame)\n",
    "\n",
    "    frame_n += 1\n",
    "    print(f'frame number: {frame_n} - verified: {same}')\n",
    "\n",
    "    # if same:\n",
    "    #     break\n",
    "\n",
    "    if cv2.waitKey(1) & 0xFF == ord('q'):\n",
    "        break\n",
    "\n",
    "video_capture.release()\n",
    "cv2.destroyAllWindows()"
   ]
  },
  {
   "cell_type": "code",
   "execution_count": null,
   "metadata": {},
   "outputs": [],
   "source": []
  }
 ],
 "metadata": {
  "kernelspec": {
   "display_name": "base",
   "language": "python",
   "name": "python3"
  },
  "language_info": {
   "codemirror_mode": {
    "name": "ipython",
    "version": 3
   },
   "file_extension": ".py",
   "mimetype": "text/x-python",
   "name": "python",
   "nbconvert_exporter": "python",
   "pygments_lexer": "ipython3",
   "version": "3.12.7"
  }
 },
 "nbformat": 4,
 "nbformat_minor": 2
}
